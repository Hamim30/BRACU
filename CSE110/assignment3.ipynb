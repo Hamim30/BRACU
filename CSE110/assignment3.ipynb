{
  "nbformat": 4,
  "nbformat_minor": 0,
  "metadata": {
    "kernelspec": {
      "display_name": "Python 3",
      "language": "python",
      "name": "python3"
    },
    "language_info": {
      "codemirror_mode": {
        "name": "ipython",
        "version": 3
      },
      "file_extension": ".py",
      "mimetype": "text/x-python",
      "name": "python",
      "nbconvert_exporter": "python",
      "pygments_lexer": "ipython3",
      "version": "3.7.6"
    },
    "colab": {
      "provenance": []
    }
  },
  "cells": [
    {
      "cell_type": "markdown",
      "metadata": {
        "id": "ku_FPIkEYhC4"
      },
      "source": [
        "# CSE110 Assignment 3\n",
        "\n"
      ]
    },
    {
      "cell_type": "markdown",
      "metadata": {
        "id": "uMYuGC1HYhDE"
      },
      "source": [
        "\n",
        "## Write the Python code of the following problems:\n",
        "\n",
        "**<font color='red'>[MUST MAINTAIN VARIABLE NAMING CONVENTIONS FOR ALL THE TASKS]</font>**\n",
        "\n",
        "## Part 1: String\n",
        "\n",
        "\n",
        "\n"
      ]
    },
    {
      "cell_type": "markdown",
      "metadata": {
        "id": "isTbNKtKYhDF"
      },
      "source": [
        "### Task 1 \n",
        "\n",
        "Write a Python program that will ask the user to input a string (containing exactly one word). Then your program should print a subsequent substring of the given string.\n",
        "\n",
        "**Example1:**\\\n",
        "Input: BANGLA\\\n",
        "Output:\\\n",
        "B\\\n",
        "BA\\\n",
        "BAN\\\n",
        "BANG\\\n",
        "BANGL\\\n",
        "BANGLA\n",
        "\n",
        "**Example2:**\\\n",
        "Input: DREAM\\\n",
        "Output:\\\n",
        "D\\\n",
        "DR\\\n",
        "DRE\\\n",
        "DREA\\\n",
        "DREAM\n",
        "\n",
        "**Hints(1):** Need to use \"for loop\" for this task.\n",
        "\n",
        "**Hints(2):** Need to use print() function for prnting newlines.\n",
        "\n",
        "For example:\\\n",
        "print(1)\\\n",
        "print(2)\n",
        "\n",
        "Output:\\\n",
        "1\\\n",
        "2\n",
        "\n",
        "=====================================================================\n",
        "\n",
        "We need use print(end = \"\") to skip printing the additional newline.\n",
        "\n",
        "For example:\\\n",
        "print(1, end =\" \")\\\n",
        "print(2)\n",
        "\n",
        "Output:(prints the next output right to the previous one)\\\n",
        "12\n",
        "\n",
        "=====================================================================\n",
        "\n",
        "\n",
        "\n",
        "\n"
      ]
    },
    {
      "cell_type": "code",
      "metadata": {
        "id": "tf8hikfSYhDH",
        "outputId": "910e4882-140c-4f16-e105-cff3817fadf9"
      },
      "source": [
        "#Todo\n",
        "given_input= input('Enter a string:')\n",
        "for row in range(len(given_input)):\n",
        "    for column in range(row+1):\n",
        "        print(given_input[column], end=\"\")\n",
        "    print()"
      ],
      "execution_count": null,
      "outputs": [
        {
          "output_type": "stream",
          "text": [
            "Enter a string:DREAm\n",
            "D\n",
            "DR\n",
            "DRE\n",
            "DREA\n",
            "DREAm\n"
          ],
          "name": "stdout"
        }
      ]
    },
    {
      "cell_type": "markdown",
      "metadata": {
        "id": "rTastzCcYhDV"
      },
      "source": [
        "### Task 2\n",
        "\n",
        "Write a Python program that will ask the user to enter two strings (s1, s2) as an input. Then create a mixed string with alternative characters from each string. Any leftover chars will be appended at the end of the result string.\n",
        "\n",
        "**Example 1:**\\\n",
        "Input:\\\n",
        "\"ABCD\"\\\n",
        "\"efgh\"\n",
        "\n",
        "Output:\\\n",
        "AeBfCgDh\n",
        "\n",
        "**Example 2:**\\\n",
        "Input:\\\n",
        "\"ABCDENDFGH\"\\\n",
        "\"ijkl\"\n",
        "\n",
        "Output:\\\n",
        "AiBjCkDlENDFGH\n",
        "\n",
        "**Example 3:**\\\n",
        "Input:\\\n",
        "\"ijkl\"\\\n",
        "\"ABCDENDFGH\"\n",
        "\n",
        "Output:\\\n",
        "iAjBkClDENDFGH\n",
        "\n",
        "*Hint: For adding the leftover characters use string slicing.*\n",
        "\n",
        "\n"
      ]
    },
    {
      "cell_type": "code",
      "metadata": {
        "id": "a56gAiiLYhDW"
      },
      "source": [],
      "execution_count": null,
      "outputs": []
    },
    {
      "cell_type": "code",
      "metadata": {
        "id": "7kd6a40ZYhDe",
        "outputId": "c6600ca2-364d-4a8c-a839-cfd0930bb200"
      },
      "source": [
        "#Todo\n",
        "s1 = input(\"Enter a string:\")\n",
        "s2 = input(\"Enter another string:\")\n",
        "result = \"\"\n",
        "s3 = len(s1)\n",
        "if len(s1) < len(s2):\n",
        "    s3 = len(s2)\n",
        "\n",
        "for count in range(s3):\n",
        "    if (count < len(s1)):\n",
        "        result += s1[count]\n",
        "    if (count < len(s2)):\n",
        "        result += s2[count]\n",
        "print(\"Output\",result)"
      ],
      "execution_count": null,
      "outputs": [
        {
          "output_type": "stream",
          "text": [
            "Enter a string:aasa\n",
            "Enter another string:fafaf\n",
            "Output afaasfaaf\n"
          ],
          "name": "stdout"
        }
      ]
    },
    {
      "cell_type": "markdown",
      "metadata": {
        "id": "Y4lcV0WPYhDk"
      },
      "source": [
        "### Task3\n",
        "\n",
        "Write a Python program that will ask the user to enter a  word as an input. If the length of the input string is less than 4, then your program should print the same string as an output. If the input string’s length is greater than 3, then your program should add “er” at the end of the input string. If the input string already ends with “er”, then add “est” instead. If the input string already ends with “est”, then your program should print the same string as an output.\n",
        "\n",
        "**Example 1:**\\\n",
        "Input: strong\\\n",
        "Output: stronger\n",
        "\n",
        "**Example 2:**\\\n",
        "Input: stronger\\\n",
        "Output: strongest\n",
        "\n",
        "**Example 3:**\\\n",
        "Input: strongest\\\n",
        "Output: strongest\n",
        "\n",
        "**Example 4:**\\\n",
        "Input: abc\\\n",
        "Output: abc\n"
      ]
    },
    {
      "cell_type": "code",
      "metadata": {
        "id": "f11xh2VVYhDl",
        "outputId": "0f40f855-fad6-4fda-9a69-4e27bc8b5bb0"
      },
      "source": [
        "#Todo\n",
        "user_input = input(\"Enter a string:\")\n",
        "length_of_input =len(user_input)\n",
        "if length_of_input < 4:\n",
        "    print(user_input)\n",
        "elif length_of_input > 3:\n",
        "    if user_input.endswith(\"er\"):\n",
        "        print(user_input[:-2]+\"est\")\n",
        "    elif user_input.endswith(\"est\"):\n",
        "        print(user_input)\n",
        "    else:\n",
        "        print(user_input+\"er\")\n",
        "    "
      ],
      "execution_count": null,
      "outputs": [
        {
          "output_type": "stream",
          "text": [
            "Enter a string:abc\n",
            "abc\n"
          ],
          "name": "stdout"
        }
      ]
    },
    {
      "cell_type": "markdown",
      "metadata": {
        "id": "gohSE3HkYhDp"
      },
      "source": [
        "### Task4\n",
        "\n",
        "Write a Python program that will ask the user to input a string (containing exactly one word). Then print code for each character in the String using the ord() function. Use any means necessary.\n",
        "\n",
        "To check if your program is working correctly or not, you can find a list of all correct values from the following website. Look at “Dec” and “Char” columns only, ignore other columns.\\\n",
        "link: http://www.asciitable.com/\n",
        "\n",
        "**Example 1:**\\\n",
        "Input: Programming\\\n",
        "Output:\\\n",
        "P : 80\\\n",
        "r : 114\\\n",
        "o : 111\\\n",
        "g : 103\\\n",
        "r : 114\\\n",
        "a : 97\\\n",
        "m : 109\\\n",
        "m : 109\\\n",
        "i : 105\\\n",
        "n : 110\\\n",
        "g : 103\n",
        "\n",
        "**Example 2:**\\\n",
        "Input: hunger\\\n",
        "Output:\\\n",
        "h : 104\\\n",
        "u : 117\\\n",
        "n : 110\\\n",
        "g : 103\\\n",
        "e : 101\\\n",
        "r : 114 "
      ]
    },
    {
      "cell_type": "code",
      "metadata": {
        "id": "kQsAYftXYhDq",
        "outputId": "1c6913fb-57e8-4c61-8faa-f9bbb7b1cba5"
      },
      "source": [
        "#Todo\n",
        "string_input=input(\"Enter a string:\")\n",
        "index = 0\n",
        "for counter in range(len(string_input)):\n",
        "    ascii_number=ord(string_input[index])\n",
        "    print(string_input[index], \" : \",ascii_number)\n",
        "    index += 1\n",
        "print()"
      ],
      "execution_count": null,
      "outputs": [
        {
          "output_type": "stream",
          "text": [
            "Enter a string:Programming\n",
            "P  :  80\n",
            "r  :  114\n",
            "o  :  111\n",
            "g  :  103\n",
            "r  :  114\n",
            "a  :  97\n",
            "m  :  109\n",
            "m  :  109\n",
            "i  :  105\n",
            "n  :  110\n",
            "g  :  103\n",
            "\n"
          ],
          "name": "stdout"
        }
      ]
    },
    {
      "cell_type": "markdown",
      "metadata": {
        "id": "xf5uRYd8YhDv"
      },
      "source": [
        "### Task5\n",
        "\n",
        "Given a word as input in small letters, print the next alphabet in sequence for each alphabet found in the input.\n",
        "\n",
        "**Example1:**\\\n",
        "Input: abcd\\\n",
        "Output: bcde\n",
        "\n",
        "**Example2:**\\\n",
        "Input: the cow\\\n",
        "Output: uif!dpx\n",
        "\n",
        "**Example3: <font color='red'>[Must fulfil this criteria]</font>**\\\n",
        "Input: xyzabc\\\n",
        "Output: yzabcd\n",
        "\n",
        "*Hint: You need to use functions ord() and chr(). The ASCII value of ‘a’ is 97 and ‘z’ is 122.*\n"
      ]
    },
    {
      "cell_type": "code",
      "metadata": {
        "id": "0KRP394GYhDw",
        "outputId": "8a3850d9-4c5a-43ca-ad81-f535776934fb"
      },
      "source": [
        "#Todo\n",
        "lowercase_input=input(\"Enter a string:\")\n",
        "character = 0\n",
        "index = 0\n",
        "for counter in range(len(lowercase_input)):\n",
        "    ascii_number=ord(lowercase_input[index])\n",
        "    index += 1\n",
        "    character = ascii_number+1\n",
        "    if character == 123:\n",
        "        character=97\n",
        "    next_character = chr(character)\n",
        "    print(next_character,end=\"\")"
      ],
      "execution_count": null,
      "outputs": [
        {
          "output_type": "stream",
          "text": [
            "Enter a string:the cow\n",
            "uif!dpx"
          ],
          "name": "stdout"
        }
      ]
    },
    {
      "cell_type": "markdown",
      "metadata": {
        "id": "jsGnoseOYhD7"
      },
      "source": [
        "### Task6\n",
        "Given a string, create a new string with all the consecutive duplicates removed. \n",
        "\n",
        "**Example:**\\\n",
        "Input:\\\n",
        "AAABBBBCDDBBECE\\\n",
        "Output:\\\n",
        "ABCDBECE\n",
        "\n",
        "*Hint: You need to make a new string to store your answer. Check whether the current character and the next character are the same, then add that character to the answer.*\n",
        "\n"
      ]
    },
    {
      "cell_type": "code",
      "metadata": {
        "id": "_CsyCMu2YhD-",
        "outputId": "a3c29c4a-f838-4cfe-abd0-42a14ba3b1c1"
      },
      "source": [
        "#Todo\n",
        "user_input = input(\"Enter a string:\")\n",
        "new_output = \"\"\n",
        "for index in range(len(user_input)):\n",
        "    if ord(user_input[index]) != ord(user_input[index-1]):\n",
        "        new_output += user_input[index]\n",
        "print(new_output)"
      ],
      "execution_count": null,
      "outputs": [
        {
          "output_type": "stream",
          "text": [
            "Enter a string:AABBCCDDEEFFGGHHIIJJKK\n",
            "ABCDEFGHIJK\n"
          ],
          "name": "stdout"
        }
      ]
    },
    {
      "cell_type": "markdown",
      "metadata": {
        "id": "PSrqZHABYhEI"
      },
      "source": [
        "## Part 2: List\n"
      ]
    },
    {
      "cell_type": "markdown",
      "metadata": {
        "id": "G-1z8-FvYhEI"
      },
      "source": [
        "### Task 7\n",
        "Write a Python program that reads 10 numbers from the user. After reading each number, print all the numbers that have been entered so far. \n",
        "\n",
        "**Example:**\\\n",
        "After the user enters 3, prints “So far in the list: [3]”\\\n",
        "After the user enters 5, prints “So far in the list: [3, 5]”\\\n",
        "After the user enters 34, prints “So far in the list: [3, 5, 34]”\n"
      ]
    },
    {
      "cell_type": "code",
      "metadata": {
        "id": "gwZm_x3KYhEJ",
        "outputId": "3877f1c7-fdd7-408e-f6a0-b732d9f15572"
      },
      "source": [
        "#Todo\n",
        "number_list =[] \n",
        "for counter in range(10):\n",
        "    numbers =int(input(\"Enter the numbers:\"))\n",
        "    number_list.append(numbers)\n",
        "    print(\"So far in the list: \",number_list)"
      ],
      "execution_count": null,
      "outputs": [
        {
          "output_type": "stream",
          "text": [
            "Enter the numbers:1\n",
            "So far is the list:  [1]\n",
            "Enter the numbers:2\n",
            "So far is the list:  [1, 2]\n",
            "Enter the numbers:3\n",
            "So far is the list:  [1, 2, 3]\n",
            "Enter the numbers:4\n",
            "So far is the list:  [1, 2, 3, 4]\n",
            "Enter the numbers:5\n",
            "So far is the list:  [1, 2, 3, 4, 5]\n",
            "Enter the numbers:6\n",
            "So far is the list:  [1, 2, 3, 4, 5, 6]\n",
            "Enter the numbers:7\n",
            "So far is the list:  [1, 2, 3, 4, 5, 6, 7]\n",
            "Enter the numbers:8\n",
            "So far is the list:  [1, 2, 3, 4, 5, 6, 7, 8]\n",
            "Enter the numbers:9\n",
            "So far is the list:  [1, 2, 3, 4, 5, 6, 7, 8, 9]\n",
            "Enter the numbers:0\n",
            "So far is the list:  [1, 2, 3, 4, 5, 6, 7, 8, 9, 0]\n"
          ],
          "name": "stdout"
        }
      ]
    },
    {
      "cell_type": "markdown",
      "metadata": {
        "id": "P25CbZc0YhEQ"
      },
      "source": [
        "### Task 8\n",
        "Assume, you have been given a list.\n",
        "\n",
        "a_list =  [10, 20, 24, 25, 26, 35, 70]\n",
        "\n",
        "Write a Python program that creates a new list excluding the first and last two elements of the given list and prints the new list. \n",
        "\n",
        "Output: [24, 25, 26]\n",
        "\n",
        "\n",
        "*Hint:You need to use list slicing.*\n"
      ]
    },
    {
      "cell_type": "code",
      "metadata": {
        "id": "aFOCMk3lYhER",
        "outputId": "56015b81-8cbc-4cda-8dd4-70707469c44b"
      },
      "source": [
        "#Todo \n",
        "given_list = [10, 20, 24, 25, 26, 35, 70]\n",
        "new_list   = given_list[2:-2]\n",
        "print(new_list)"
      ],
      "execution_count": null,
      "outputs": [
        {
          "output_type": "stream",
          "text": [
            "[24, 25, 26]\n"
          ],
          "name": "stdout"
        }
      ]
    },
    {
      "cell_type": "markdown",
      "metadata": {
        "id": "bmcntwUhYhEa"
      },
      "source": [
        "### Task 9\n",
        "Assume, you have been given two lists. \n",
        "\n",
        "list_one = [1, 2, 3, 4, 5, 6, 7, 8, 9]\\\n",
        "list_two = [10, 11, 12, -13, -14, -15, -16]\n",
        "\n",
        "Write a Python program that creates a new list with all the even elements of both of the given lists and prints the new list.\n",
        "\n",
        "\n",
        "Output: [2, 4, 6, 8, 10, 12, -14, -16]\n",
        "\n",
        "*Hint: You need to create a third list to store the even elements of the given lists.*\n",
        "\n"
      ]
    },
    {
      "cell_type": "code",
      "metadata": {
        "id": "uQO4hLZpYhEb",
        "outputId": "f3118b76-7be6-4c91-846a-1eb01dc60703"
      },
      "source": [
        "#Todo\n",
        "list_one  = [1, 2, 3, 4, 5, 6, 7, 8, 9]\n",
        "list_two  = [10, 11, 12, -13, -14, -15, -16]\n",
        "list_three= list_one + list_two\n",
        "new_list  = []\n",
        "\n",
        "for counter in range(len(list_three)):\n",
        "    if list_three[counter] % 2 == 0:\n",
        "        new_list.append(list_three[counter])\n",
        "print(new_list)"
      ],
      "execution_count": null,
      "outputs": [
        {
          "output_type": "stream",
          "text": [
            "[2, 4, 6, 8, 10, 12, -14, -16]\n"
          ],
          "name": "stdout"
        }
      ]
    },
    {
      "cell_type": "markdown",
      "metadata": {
        "id": "czlB-5kwYhEl"
      },
      "source": [
        "### Task 10\n",
        "\n",
        "Assume, you have been given two lists.\\\n",
        "list_one = [1, 2 , 2, 4, 5, 5, 7, 99, 200, 303, 70]\\\n",
        "list_two = [1, 1, 2, 3, 3, 3, 4, 5, 200, 500, -5]\n",
        "\n",
        "Write a Python program that creates a new list with all the unique elements of both the given lists. You make sure no duplicates are in the result list and finally print the result list.\n",
        "\n",
        "Output: \n",
        "[1, 2, 4, 5, 7, 99, 200, 303, 70, 3, 500, -5]\n",
        "\n",
        "*Hint:You need to create a third list to store the results. Use membership operators (in, not in) to make sure no duplicates are added.*\n",
        "\n"
      ]
    },
    {
      "cell_type": "code",
      "metadata": {
        "id": "DT62wKWWYhEm",
        "outputId": "99f0ae42-4a21-4152-ac37-d8949ebb0e8f"
      },
      "source": [
        "#Todo\n",
        "list_one  = [1, 2 , 2, 4, 5, 5, 7, 99, 200, 303, 70]\n",
        "list_two  = [1, 1, 2, 3, 3, 3, 4, 5, 200, 500, -5]\n",
        "list_three= list_one + list_two\n",
        "new_list  = []\n",
        "\n",
        "for counter in range(len(list_three)):\n",
        "    if list_three[counter] not in new_list:\n",
        "        new_list.append(list_three[counter])\n",
        "print(\"Output:\",new_list) "
      ],
      "execution_count": null,
      "outputs": [
        {
          "output_type": "stream",
          "text": [
            "Output: [1, 2, 4, 5, 7, 99, 200, 303, 70, 3, 500, -5]\n"
          ],
          "name": "stdout"
        }
      ]
    },
    {
      "cell_type": "markdown",
      "metadata": {
        "id": "B-D1sHKHYhEr"
      },
      "source": [
        "### Task 11\n",
        "\n",
        "Write a Python program that reads 5 numbers into a list and prints the largest number and its location on the list. <font color='red'>[You are not allowed to use the max() function here]</font>\n",
        "\n",
        "**Example:**\\\n",
        "Input: 7, 13, 2, 10, 6\\\n",
        "Output:\\\n",
        "“list: [7, 13, 2, 10, 6]”\\\n",
        "“Largest number 13 was found at location 1”.\n",
        "\n",
        "*Hint: Assume, the first input to be the largest value initially and the location of first input which is 0 to be the initial value of the largest value’s location.\n",
        "You need to be careful while printing the output. Depending on your code might need data conversion.*\n"
      ]
    },
    {
      "cell_type": "code",
      "metadata": {
        "id": "j8bc2zjSYhEr",
        "outputId": "b9781e9b-63f6-4bce-fec4-cf3879dfb751"
      },
      "source": [
        "input_list     = []\n",
        "largest_number = 0\n",
        "first_number   = 0\n",
        "\n",
        "for counter in range(5):\n",
        "    number = int(input(\"Enter number:\"))\n",
        "    input_list.append(number)\n",
        "    \n",
        "first_number=input_list[0]\n",
        "\n",
        "for count in range(len(input_list)):\n",
        "    if first_number > input_list[count]:\n",
        "        largest_number = first_number\n",
        "    elif input_list[count] > first_number:\n",
        "        largest_number = input_list[count]\n",
        "         \n",
        "print(\"list:\",input_list)\n",
        "print(\"largest number is \",largest_number,\"was found at\",input_list.index(largest_number))"
      ],
      "execution_count": null,
      "outputs": [
        {
          "output_type": "stream",
          "text": [
            "Enter number:1\n",
            "Enter number:2\n",
            "Enter number:3\n",
            "Enter number:4\n",
            "Enter number:5\n",
            "list: [1, 2, 3, 4, 5]\n",
            "largest number is  5 was found at 4\n"
          ],
          "name": "stdout"
        }
      ]
    },
    {
      "cell_type": "markdown",
      "metadata": {
        "id": "pFfIAONdYhEw"
      },
      "source": [
        "### Task 12\n",
        "\n",
        "Write a Python program that reads 5 numbers into a list and prints the smallest and largest number and their location in the list. <font color='red'>[You are not allowed to use the max() and min() function here]</font>\n",
        "\n",
        "**Example:**\\\n",
        "If the user enters 7, 13, -5, 10, 6 then your program should print\\\n",
        "“list: [7, 13, -5, 10, 6]”\\\n",
        "“Smallest number -5 was found at location 2”.\\\n",
        "“Largest number 13 was found at location 1”.\n",
        "\n",
        "*Hint: Assume, the first input to be the largest value and the location of the first input which is 0 to be the initial value of the largest value’s location. Similarly, assume the first input to be the smallest value and the location of the first input which is 0 to be the initial value of the smallest value’s location.\n",
        "You need to be careful while printing the output. Depending on your code might need data conversion.*\n"
      ]
    },
    {
      "cell_type": "code",
      "metadata": {
        "id": "djUWTqtKYhEy",
        "outputId": "46c333f0-f21e-4b5a-f421-7e4115910bd1"
      },
      "source": [
        "#Todo\n",
        "new_list = []\n",
        "for count in range(5):\n",
        "    numbers = int(input(\"Enter a number:\"))\n",
        "    new_list.append(numbers)\n",
        "largest_number = new_list[0]\n",
        "smallest_number= new_list[0]\n",
        "for i in range(1,len(new_list)):\n",
        "    if new_list[i] > largest_number:\n",
        "        largest_number = new_list[i]\n",
        "    if new_list[i] < smallest_number:\n",
        "        smallest_number = new_list[i]\n",
        "print(\"Smallest number\",smallest_number,\"was found at\",new_list.index(smallest_number))\n",
        "print(\"Largest number\",largest_number,\"was found at\",new_list.index(largest_number))"
      ],
      "execution_count": null,
      "outputs": [
        {
          "output_type": "stream",
          "text": [
            "Enter a number:7\n",
            "Enter a number:13\n",
            "Enter a number:-5\n",
            "Enter a number:10\n",
            "Enter a number:6\n",
            "Smallest number -5 was found at 2\n",
            "Largest number 13 was found at 1\n"
          ],
          "name": "stdout"
        }
      ]
    }
  ]
}
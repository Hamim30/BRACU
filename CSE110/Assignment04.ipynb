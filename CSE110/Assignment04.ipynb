{
  "nbformat": 4,
  "nbformat_minor": 0,
  "metadata": {
    "colab": {
      "provenance": [],
      "collapsed_sections": []
    },
    "kernelspec": {
      "display_name": "Python 3",
      "language": "python",
      "name": "python3"
    },
    "language_info": {
      "codemirror_mode": {
        "name": "ipython",
        "version": 3
      },
      "file_extension": ".py",
      "mimetype": "text/x-python",
      "name": "python",
      "nbconvert_exporter": "python",
      "pygments_lexer": "ipython3",
      "version": "3.7.6"
    }
  },
  "cells": [
    {
      "cell_type": "markdown",
      "metadata": {
        "id": "U4PRkuyUtDRw"
      },
      "source": [
        "# CSE110 Assignment 4\n",
        "\n",
        "\n",
        "## Write the Python code of the following problems:\n",
        "**<font color='red'>[MUST MAINTAIN VARIABLE NAMING CONVENTIONS FOR ALL THE TASKS]</font>**\n"
      ]
    },
    {
      "cell_type": "markdown",
      "metadata": {
        "id": "PD425BrvtDRy"
      },
      "source": [
        "## Part 1: Tuple"
      ]
    },
    {
      "cell_type": "markdown",
      "metadata": {
        "id": "FNOorLYXtDRz"
      },
      "source": [
        "### Task 1\n",
        "\n",
        "Assume, you have been given a tuple.\n",
        "\n",
        "a_tuple = (\"The Institute\",\\\n",
        "        (\"Best Mystery & Thriller\", \"The Silent Patient\", 68821),\\\n",
        "        75717,\\\n",
        "        [1, 2, 3, 400, 5, 6, 7],\\\n",
        "        (\"Best Fiction\", \"The Testaments\", 98291)\\\n",
        ")\n",
        "\n",
        "Write **one line** of Python code to access and print the value 400.\n",
        "\n",
        "Output: 400\n",
        "\n"
      ]
    },
    {
      "cell_type": "code",
      "metadata": {
        "id": "NDKB1cIMtDR0",
        "outputId": "9d64e446-015b-4697-c606-e9959d84fe83"
      },
      "source": [
        "#TODO\n",
        "a_tuple = (\"The Institute\",(\"Best Mystery & Thriller\", \"The Silent Patient\", 68821),75717,[1, 2, 3, 400, 5, 6, 7],(\"Best Fiction\", \"The Testaments\", 98291)\n",
        ")\n",
        "print(a_tuple[3][3])"
      ],
      "execution_count": null,
      "outputs": [
        {
          "output_type": "stream",
          "text": [
            "400\n"
          ],
          "name": "stdout"
        }
      ]
    },
    {
      "cell_type": "markdown",
      "metadata": {
        "id": "BXlIw1svtDR-"
      },
      "source": [
        "### Task 2\n",
        "\n",
        "Assume, you have been given a tuple.\n",
        "\n",
        "a_tuple =  (10, 20, 24, 25, 26, 35, 70)\n",
        "\n",
        "Write a Python program that creates a **new tuple** excluding the first and last two elements of the given tuple and prints the new tuple. \n",
        "\n",
        "Output: (24, 25, 26)\n",
        "\n",
        "*Hint: You need to use tuple slicing.*\n"
      ]
    },
    {
      "cell_type": "code",
      "metadata": {
        "id": "FTJ-5AmNtDR_",
        "outputId": "0276dd25-582a-4804-eaa4-272840281f51"
      },
      "source": [
        "#Todo\n",
        "a_tuple   = (10, 20, 24, 25, 26, 35, 70)\n",
        "new_tuple = a_tuple [2:-2] \n",
        "\n",
        "print(new_tuple)"
      ],
      "execution_count": null,
      "outputs": [
        {
          "output_type": "stream",
          "text": [
            "(24, 25, 26)\n"
          ],
          "name": "stdout"
        }
      ]
    },
    {
      "cell_type": "markdown",
      "metadata": {
        "id": "Z3GS2TE6tDSG"
      },
      "source": [
        "### Task 3\n",
        "\n",
        "Assume, you have been given a tuple. \n",
        "\n",
        "\n",
        "book_info = (\\\n",
        "    (\"Best Mystery & Thriller\",\"The Silent Patient\",68,821),\\\n",
        "    (\"Best Horror\",\"The Institute\",75,717),\\\n",
        "    (\"Best History & Biography\",\"The five\",31,783 ),\\\n",
        "    (\"Best Fiction\",\"The Testaments\",98,291)\\\n",
        ")\n",
        "\n",
        "Write a Python program that prints its size and all its elements.\n",
        "\n",
        "Output:\\\n",
        "Size of the tuple is: 4\\\n",
        "('Best Mystery & Thriller', 'The Silent Patient', 68, 821)\\\n",
        "('Best Horror', 'The Institute', 75, 717)\\\n",
        "('Best History & Biography', 'The five', 31, 783)\\\n",
        "('Best Fiction', 'The Testaments', 98, 291)\n"
      ]
    },
    {
      "cell_type": "code",
      "metadata": {
        "id": "RPFYcAjntDSG",
        "outputId": "060cecff-bb34-4b7c-8ef4-c88ad2bc01e5"
      },
      "source": [
        "#Todo\n",
        "book_info = (\n",
        "(\"Best Mystery & Thriller\",\"The Silent Patient\",68,821),\n",
        "(\"Best Horror\",\"The Institute\",75,717),\n",
        "(\"Best History & Biography\",\"The five\",31,783 ),\n",
        "(\"Best Fiction\",\"The Testaments\",98,291)\n",
        ")\n",
        "\n",
        "size = len(book_info)\n",
        "\n",
        "print(\"Size of the tuple is:\",size)\n",
        "for counter in book_info:\n",
        "    print(counter)\n"
      ],
      "execution_count": null,
      "outputs": [
        {
          "output_type": "stream",
          "text": [
            "Size of the tuple is: 4\n",
            "('Best Mystery & Thriller', 'The Silent Patient', 68, 821)\n",
            "('Best Horror', 'The Institute', 75, 717)\n",
            "('Best History & Biography', 'The five', 31, 783)\n",
            "('Best Fiction', 'The Testaments', 98, 291)\n"
          ],
          "name": "stdout"
        }
      ]
    },
    {
      "cell_type": "markdown",
      "metadata": {
        "id": "glKgAPlGtDSK"
      },
      "source": [
        "### Task 4\n",
        "\n",
        "Assume, you have been given a tuple. \n",
        "\n",
        "book_info = (\\\n",
        "    (\"Best Mystery & Thriller\",\"The Silent Patient\",68821),\\\n",
        "    (\"Best Horror\",\"The Institute\",75717),\\\n",
        "    (\"Best History & Biography\",\"The five\",31783 ),\\\n",
        "    (\"Best Fiction\",\"The Testaments\",98291)\\\n",
        ")\n",
        "\n",
        "Write a Python program that prints the information about the Good Reads Choice Awards from a tuple. Your program should print the award category, the book name, and its total votes needed for the win.\n",
        "\n",
        "**Output:**\\\n",
        "The Silent Patient won the 'Best Mystery & Thriller' category with 68821 votes\\\n",
        "The Institute won the 'Best Horror' category with 75717 votes\\\n",
        "The five won the 'Best History & Biography' category with 31783 votes\\\n",
        "The Testaments won the 'Best Fiction' category with 98291 votes\n",
        "\n",
        "*Hint: You need to handle the quotation marks as a part of the output.*\n",
        "**<font color='red'>[Must use Tuple unpacking for printing.]</font>**\n",
        "\n",
        "\n"
      ]
    },
    {
      "cell_type": "code",
      "metadata": {
        "id": "LgTKpSGatDSM",
        "outputId": "adafd064-112e-4f94-97d5-0b8175087d03"
      },
      "source": [
        "#Todo\n",
        "book_info = (\n",
        "(\"Best Mystery & Thriller\",\"The Silent Patient\",68821),\n",
        "(\"Best Horror\",\"The Institute\",75717),\n",
        "(\"Best History & Biography\",\"The five\",31783 ),\n",
        "(\"Best Fiction\",\"The Testaments\",98291)\n",
        ")\n",
        "\n",
        "first, second, third, fourth = book_info #unpacking\n",
        "\n",
        "print(first[1] ,\"won the\"  ,\"'\", first[0]  ,\"'\", \"category with\", first[2] ,\"votes\")\n",
        "print(second[1],\"won the\"  ,\"'\", second[0] ,\"'\", \"category with\", second[2],\"votes\")\n",
        "print(third[1] ,\"won the\"  ,\"'\", third[0]  ,\"'\", \"category with\", third[2] ,\"votes\")\n",
        "print(fourth[1],\"won the\"  ,\"'\", fourth[0] ,\"'\", \"category with\", fourth[2],\"votes\")\n"
      ],
      "execution_count": null,
      "outputs": [
        {
          "output_type": "stream",
          "text": [
            "The Silent Patient won the ' Best Mystery & Thriller ' category with 68821 votes\n",
            "The Institute won the ' Best Horror ' category with 75717 votes\n",
            "The five won the ' Best History & Biography ' category with 31783 votes\n",
            "The Testaments won the ' Best Fiction ' category with 98291 votes\n"
          ],
          "name": "stdout"
        }
      ]
    },
    {
      "cell_type": "markdown",
      "metadata": {
        "id": "hoElNRL6tDSR"
      },
      "source": [
        "### Task 5\n",
        "\n",
        "Assume, you have been given a tuple.\n",
        "\n",
        "a_tuple = ( [1, 2, 3], [4, 5, 6], [7, 8, 9], [10, 11, 12])\n",
        "\n",
        "Write a Python program that asks the user for input (can be any data type) and **replaces the last element of each of the inner lists with the user given value.**\n",
        "\n",
        "**Example 1:**\\\n",
        "Input: “abc”\\\n",
        "Output: ([1, 2, 'abc'], [4, 5, 'abc'], [7, 8, 'abc'], [10, 11, 'abc'])\n",
        "\n",
        "**Example 2:**\\\n",
        "Input: 1000\\\n",
        "Output: ([1, 2, 1000], [4, 5, 1000], [7, 8, 1000], [10, 11, 1000])\n",
        "\n"
      ]
    },
    {
      "cell_type": "code",
      "metadata": {
        "id": "mC-B1fpStDST",
        "outputId": "9feb0c4d-0c90-45cc-f959-80228a36a39c"
      },
      "source": [
        "#Todo\n",
        "a_tuple = ( [1, 2, 3], [4, 5, 6], [7, 8, 9], [10, 11, 12])\n",
        "a_list =list(a_tuple)\n",
        "\n",
        "user_input= input(\"Enter a string that you want to replce:\")\n",
        "\n",
        "for counter in range(len(a_list)):\n",
        "    a_list[counter][2]=user_input\n",
        "\n",
        "new_tuple=tuple(a_list)\n",
        "print(new_tuple)"
      ],
      "execution_count": null,
      "outputs": [
        {
          "output_type": "stream",
          "text": [
            "Enter a string that you want to replce:costarica\n",
            "([1, 2, 'costarica'], [4, 5, 'costarica'], [7, 8, 'costarica'], [10, 11, 'costarica'])\n"
          ],
          "name": "stdout"
        }
      ]
    },
    {
      "cell_type": "markdown",
      "metadata": {
        "id": "km0QurTJtDSX"
      },
      "source": [
        "## Part 2: Dictionary"
      ]
    },
    {
      "cell_type": "markdown",
      "metadata": {
        "id": "QlIVub1VtDSY"
      },
      "source": [
        "### Task 6\n",
        "\n",
        "Suppose there is a dictionary of your shopping list.\n",
        "\n",
        "shopping_list = {'Chocolate': 'Hersheys', 'Cocoa  powder': 'Cadbury', 'Spread': 'Nutella'} \n",
        "\n",
        "Now write a python program to add a new key called 'Baking powder' and assign 'Foster clarks' as its value.\n",
        "\n",
        "**Output:**\\\n",
        "{'Chocolate': 'Hersheys', 'Cocoa  powder': 'Cadbury', 'Spread': 'Nutella', 'Baking powder': 'Foster clarks'}\n"
      ]
    },
    {
      "cell_type": "code",
      "metadata": {
        "id": "tCLaSZP-tDSZ",
        "outputId": "e812c531-4dcb-401d-b3a6-697ebea53bcc"
      },
      "source": [
        "#todo\n",
        "shopping_list = {'Chocolate': 'Hersheys', 'Cocoa powder': 'Cadbury', 'Spread': 'Nutella'}\n",
        "shopping_list.update({'Baking powder':'Foster clarks'})\n",
        "print(shopping_list)"
      ],
      "execution_count": null,
      "outputs": [
        {
          "output_type": "stream",
          "text": [
            "{'Chocolate': 'Hersheys', 'Cocoa powder': 'Cadbury', 'Spread': 'Nutella', 'Baking powder': 'Foster clarks'}\n"
          ],
          "name": "stdout"
        }
      ]
    },
    {
      "cell_type": "markdown",
      "metadata": {
        "id": "kvV-HnCntDSc"
      },
      "source": [
        "### Task 7\n",
        "Suppose you are given the following two dictionaries.\\\n",
        "marks_boys = {'Harry':15, 'Draco':8, 'Nevil':19}\\\n",
        "marks_girls = {'Ginie':18, 'Luna': 14}\n",
        "\n",
        "Now create a new dictionary marks merging the two of the above dictionaries, **so that the original two dictionaries remain unchanged.**\n",
        "\n",
        "**Output:**\\\n",
        "{'Harry': 15, 'Draco': 8, 'Nevil': 19, 'Ginie': 18, 'Luna': 14}\n",
        "\n",
        "*Hint: You can use dictionary functions.*\n"
      ]
    },
    {
      "cell_type": "code",
      "metadata": {
        "id": "BGSyClBPtDSd",
        "outputId": "8f267cd1-093a-4cea-d48f-f6ddea56d29f"
      },
      "source": [
        "#todo\n",
        "marks_boys = {'Harry':15, 'Draco':8, 'Nevil':19}\n",
        "marks_girls = {'Ginie':18, 'Luna': 14}\n",
        "new_dict={}\n",
        "new_dict.update(marks_boys)\n",
        "new_dict.update(marks_girls)\n",
        "print(new_dict)"
      ],
      "execution_count": null,
      "outputs": [
        {
          "output_type": "stream",
          "text": [
            "{'Ginie': 18, 'Luna': 14}\n",
            "{'Harry': 15, 'Draco': 8, 'Nevil': 19, 'Ginie': 18, 'Luna': 14}\n"
          ],
          "name": "stdout"
        }
      ]
    },
    {
      "cell_type": "markdown",
      "metadata": {
        "id": "QRzP4HYStDSi"
      },
      "source": [
        "### Task 8\n",
        "Write a Python program to find the average of all the values in a dictionary. <font color='red'>[ You are not allowed to use len() and sum()]</font>\n",
        "\n",
        "**Input:**\\\n",
        "salary = {'Jon': 100, 'Dan':200, 'Rob':300}\n",
        "\n",
        "**Output:**\\\n",
        "Average is 200\n",
        "\n",
        "*Hint: You can use dictionary functions to get all the values of the dictionary, then run loop to calculate the sum and the total number of values in the dictionary.*\n"
      ]
    },
    {
      "cell_type": "code",
      "metadata": {
        "id": "j3PWue8DRH0x"
      },
      "source": [
        "1,2,3"
      ],
      "execution_count": null,
      "outputs": []
    },
    {
      "cell_type": "code",
      "metadata": {
        "colab": {
          "base_uri": "https://localhost:8080/"
        },
        "id": "VMRLnA53tDSk",
        "outputId": "cc195ade-4d61-4643-f0f0-bec0fefb05cd"
      },
      "source": [
        "#todo\n",
        "salary = {'Jon': 100, 'Dan':200, 'Rob':300}\n",
        "sum=0\n",
        "for i in salary.values():\n",
        "    sum+=(i)\n",
        "print(sum/len(salary))"
      ],
      "execution_count": null,
      "outputs": [
        {
          "output_type": "stream",
          "text": [
            "200.0\n"
          ],
          "name": "stdout"
        }
      ]
    },
    {
      "cell_type": "markdown",
      "metadata": {
        "id": "5NS_moXQtDSo"
      },
      "source": [
        "### Task 9\n",
        "Write a Python program that discards **duplicate elements** from the following dictionary. \n",
        "\n",
        "bank = {'customer1':101, 'customer2':102, 'customer3':101, 'customer4':103, 'customer5':102}\n",
        "\n",
        "**Output:**\\\n",
        "{'customer1': 101, 'customer2': 102, 'customer4': 103}\n",
        "\n",
        "*Hint: Think of membership operators (in and not in). You can use dictionary functions to get the values.*\n"
      ]
    },
    {
      "cell_type": "code",
      "metadata": {
        "colab": {
          "base_uri": "https://localhost:8080/"
        },
        "id": "LUKwue_ctDSo",
        "outputId": "2bd1d1af-1228-46db-d961-20a1793498b9"
      },
      "source": [
        "#todo\n",
        "bank = {'customer1':101, 'customer2':102, 'customer3':101, 'customer4':103, 'customer5':102}\n",
        "copy_bank=dict(bank)\n",
        "uniq_value=[]\n",
        "for k,v in copy_bank.items():\n",
        "    if v not in uniq_value:\n",
        "        uniq_value+=[v]\n",
        "    else:\n",
        "        bank.pop(k)\n",
        "print(bank)"
      ],
      "execution_count": null,
      "outputs": [
        {
          "output_type": "stream",
          "text": [
            "{'customer1': 101, 'customer2': 102, 'customer4': 103}\n"
          ],
          "name": "stdout"
        }
      ]
    },
    {
      "cell_type": "markdown",
      "metadata": {
        "id": "IsqFQpqKtDSs"
      },
      "source": [
        "### Task 10\n",
        "Write a Python program that finds the largest value with its key from the following dictionary. <font color='red'>[without using max() function]</font> \n",
        "\n",
        "book_shop = {'sci fi': 12, 'mystery': 15, 'horror': 8, 'mythology': 10, 'young_adult': 4, 'adventure':14}\n",
        "\n",
        "**Output:**\\\n",
        "The highest selling book genre is mystery and the number of books sold are 15\n",
        "\n",
        "*Hint: Think of membership operators (in and not in). You can use dictionary functions to get the values.*\n"
      ]
    },
    {
      "cell_type": "code",
      "metadata": {
        "colab": {
          "base_uri": "https://localhost:8080/"
        },
        "id": "v9Kosgs4tDSt",
        "outputId": "12838620-887b-49fd-d631-1ffe0e5f6f2f"
      },
      "source": [
        "#todo\n",
        "book_shop = {'sci fi': 12, 'mystery': 15, 'horror': 8, 'mythology': 10, 'young_adult': 4, 'adventure':14}\n",
        "lv=book_shop['sci fi']\n",
        "lk=\"\"\n",
        "for k,v in book_shop.items():\n",
        "    if lv<v:\n",
        "        lv=v\n",
        "        lk=k\n",
        "print(lv,lk)\n"
      ],
      "execution_count": null,
      "outputs": [
        {
          "output_type": "stream",
          "text": [
            "15 mystery\n"
          ],
          "name": "stdout"
        }
      ]
    },
    {
      "cell_type": "markdown",
      "metadata": {
        "id": "ToKMWA8NEpQJ"
      },
      "source": []
    },
    {
      "cell_type": "code",
      "metadata": {
        "colab": {
          "base_uri": "https://localhost:8080/"
        },
        "id": "KqRndyLwEpfG",
        "outputId": "890403a0-05ca-40e6-b19b-0a6b1590f227"
      },
      "source": [
        "k=int(input())\n",
        "if (k)%2==0:\n",
        "    print(k//2)\n",
        "else:\n",
        "    print((-1)*(k-(k//2)))"
      ],
      "execution_count": null,
      "outputs": [
        {
          "output_type": "stream",
          "text": [
            "8\n",
            "4\n"
          ],
          "name": "stdout"
        }
      ]
    },
    {
      "cell_type": "markdown",
      "metadata": {
        "id": "qozufw7itDSy"
      },
      "source": [
        "### Task 11\n",
        "Write a Python program that combines two dictionary adding values for common keys. \n",
        "**Input:**\\\n",
        "dict1 = {'a': 10, 'b':20, 'c':30}\\\n",
        "dict2 = {'a': 10, 'c':20, 'd':30, 'e':40}\n",
        "\n",
        "**Output:**\\\n",
        "{'a': 20, 'b': 20, 'c': 50, 'd': 30, 'e': 40}\n",
        "\n",
        "\n",
        "*Hint: Think of membership operators (in and not in). You can use dictionary functions to get the values. Need to create a new dictionary to store the combined items.* \n"
      ]
    },
    {
      "cell_type": "code",
      "metadata": {
        "colab": {
          "base_uri": "https://localhost:8080/"
        },
        "id": "S0EIYODZtDSz",
        "outputId": "dd759b25-3813-44fe-a9b7-d159b92d711b"
      },
      "source": [
        "#todo\n",
        "dict1 = {'a': 10, 'b':20, 'c':30}\n",
        "dict2 = {'a': 10, 'c':20, 'd':30, 'e':40}\n",
        "dict3=dict(dict1)\n",
        "for k,v in dict2.items():\n",
        "    if k in dict3:\n",
        "        dict3[k]+=v\n",
        "    else:\n",
        "        dict3[k]=v\n",
        "print(dict3)"
      ],
      "execution_count": null,
      "outputs": [
        {
          "output_type": "stream",
          "text": [
            "{'a': 20, 'b': 20, 'c': 50, 'd': 30, 'e': 40}\n"
          ],
          "name": "stdout"
        }
      ]
    },
    {
      "cell_type": "markdown",
      "metadata": {
        "id": "hAqjgwGNtDS2"
      },
      "source": [
        "### Task 12\n",
        "Write a Python program that takes a string as an input from the user and counts the frequency of each character using the dictionary. For solving this problem, you need to use each character as a key and its frequency as values. <font color='red'>[without using count() function]</font> \n",
        "\n",
        "\n",
        "**Input:**\\\n",
        "\"Python programming is fun\"\n",
        "\n",
        "**Output:**\\\n",
        "{'p': 2, 'y': 1, 't': 1, 'h': 1, 'o': 2, 'n': 3, 'r': 2, 'g': 2, 'a': 1, 'm': 2, 'i': 2, 's': 1, 'f': 1, 'u': 1}\n",
        "\n",
        "*Hint: Need to create a new dictionary to store the frequency. Case is ignored (P and p are considered same).*\n",
        "\n"
      ]
    },
    {
      "cell_type": "code",
      "metadata": {
        "id": "-m2yPIT7tDS3",
        "outputId": "118c4b52-906c-42db-b9d4-32235e6eee9b"
      },
      "source": [
        "#todo\n"
      ],
      "execution_count": null,
      "outputs": [
        {
          "output_type": "stream",
          "text": [
            "Enter a string:truth shall previl\n",
            "{'t': 2, 'r': 2, 'u': 1, 'h': 2, 's': 1, 'a': 1, 'l': 3, 'p': 1, 'e': 1, 'v': 1, 'i': 1}\n"
          ],
          "name": "stdout"
        }
      ]
    },
    {
      "cell_type": "markdown",
      "metadata": {
        "id": "QWf1zsBctDS6"
      },
      "source": [
        "### Task 13\n",
        "Suppose you are given the following dictionary where its values are lists. \n",
        "\n",
        "\n",
        "dict = {'A': [1,2,3], 'b': ['1', '2'], \"c\": [4, 5, 6, 7]}\n",
        "\n",
        "Write a Python program that counts the total number of items in the dictionary’s values and prints it. <font color='red'>[without using sum() , len(), count() function]</font> \n",
        "\n",
        "**Output:**\\\n",
        "9\n",
        "\n"
      ]
    },
    {
      "cell_type": "code",
      "metadata": {
        "id": "atnD3A1utDS6",
        "outputId": "9e4173ff-99e1-4ef2-b070-1b0cb8ec2b93"
      },
      "source": [
        "#todo\n"
      ],
      "execution_count": null,
      "outputs": [
        {
          "output_type": "stream",
          "text": [
            "[1, 2, 3]\n",
            "['1', '2']\n",
            "[4, 5, 6, 7]\n",
            "9\n"
          ],
          "name": "stdout"
        }
      ]
    },
    {
      "cell_type": "markdown",
      "metadata": {
        "id": "rCCFcYmPtDS-"
      },
      "source": [
        "### Task 14\n",
        "\n",
        "Write a Python program that takes a number (N) from the user and creates a dictionary with all the numbers starting from 1 to N (including) as keys and its cubes as values. Lastly, prints the dictionary.\n",
        "\n",
        "**Example1:** \n",
        "\n",
        "Input: 5\\\n",
        "Output: {1: 1, 2: 8, 3: 27, 4: 64, 5: 125}\n",
        "\n",
        "**Example2:** \n",
        "\n",
        "Input: 3\\\n",
        "Output: {1: 1, 2: 8, 3: 27}\n"
      ]
    },
    {
      "cell_type": "code",
      "metadata": {
        "id": "1l3nIxHltDS-",
        "outputId": "22d18c9a-6162-48a0-9386-e8b7fd154d78"
      },
      "source": [
        "#todo\n"
      ],
      "execution_count": null,
      "outputs": [
        {
          "output_type": "stream",
          "text": [
            "Enter a number:5\n",
            "{1: 1, 2: 8, 3: 27, 4: 64, 5: 125}\n"
          ],
          "name": "stdout"
        }
      ]
    },
    {
      "cell_type": "markdown",
      "metadata": {
        "id": "-imuPb3EtDTD"
      },
      "source": [
        "### Task 15\n",
        "\n",
        "Suppose you have been given the following list of tuples. \n",
        "\n",
        "list = [(\"a\", 1), (\"b\", 2), (\"a\", 3), (\"b\", 1), (\"a\", 2), (\"c\", 1)]\n",
        "\n",
        "Write a Python program that converts this list of tuples into a dictionary and prints the dictionary. <font color='red'>[You are not allowed to use set]</font> \n",
        "\n",
        "**Output:**\n",
        "\n",
        "{'a': [1, 3, 2], 'b': [2, 1], 'c': [1]}\n",
        "\n",
        "*Hint: Think of membership operators (in and not in).*  \n"
      ]
    },
    {
      "cell_type": "code",
      "metadata": {
        "id": "bBBcHpgYtDTE",
        "outputId": "6258f372-e91e-46eb-a64c-28824c369408"
      },
      "source": [
        "#todo\n"
      ],
      "execution_count": null,
      "outputs": [
        {
          "output_type": "stream",
          "text": [
            "{'a': [1, 3, 2], 'b': [2, 1], 'c': [1]}\n"
          ],
          "name": "stdout"
        }
      ]
    },
    {
      "cell_type": "code",
      "metadata": {
        "id": "8sBhQBmhtDTI"
      },
      "source": [],
      "execution_count": null,
      "outputs": []
    }
  ]
}